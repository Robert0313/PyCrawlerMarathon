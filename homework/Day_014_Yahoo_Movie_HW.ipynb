{
 "cells": [
  {
   "cell_type": "markdown",
   "metadata": {},
   "source": [
    "# YAHOO電影爬蟲練習\n",
    "## 練習爬取電影放映資訊。必須逐步獲取電影的代號、放映地區、放映日期後，再送出查詢給伺服器。"
   ]
  },
  {
   "cell_type": "code",
   "execution_count": 82,
   "metadata": {},
   "outputs": [],
   "source": [
    "import requests\n",
    "import re\n",
    "from bs4 import BeautifulSoup"
   ]
  },
  {
   "cell_type": "markdown",
   "metadata": {},
   "source": [
    "### 先搜尋全部的電影代號(ID)資訊"
   ]
  },
  {
   "cell_type": "code",
   "execution_count": 83,
   "metadata": {},
   "outputs": [
    {
     "name": "stdout",
     "output_type": "stream",
     "text": [
      "97\n",
      "Movie: 翻供, ID: 10788\n",
      "Movie: 小路與我的秘密驛站, ID: 10810\n",
      "Movie: 傻傻愛你，傻傻愛我, ID: 10075\n",
      "Movie: 不丹是教室, ID: 10789\n",
      "Movie: 藍色恐懼：數位修復版, ID: 10775\n",
      "Movie: 甜心大叔, ID: 10769\n",
      "Movie: 誰偷了班克西？, ID: 10768\n",
      "Movie: 綠光 經典數位修復, ID: 10686\n",
      "Movie: 海星, ID: 10303\n",
      "Movie: 屍速列車：感染半島, ID: 10608\n",
      "Movie: 打噴嚏, ID: 5350\n",
      "Movie: 魔鬼剋星(1984), ID: 10803\n",
      "Movie: 里斯本的故事 25周年4K修復版, ID: 10779\n",
      "Movie: 推拿, ID: 10773\n",
      "Movie: PJ 哈維：戰地拾音錄, ID: 10772\n",
      "Movie: 噬血達琳, ID: 10767\n",
      "Movie: 女子漢又怎樣, ID: 10766\n",
      "Movie: 疤面教父, ID: 10751\n",
      "Movie: 假面病棟, ID: 10749\n",
      "Movie: 沉默的羔羊, ID: 10745\n",
      "Movie: 角落小夥伴電影版：魔法繪本裡的新朋友, ID: 10647\n",
      "Movie: 慾火烈愛, ID: 10576\n",
      "Movie: 祕密花園, ID: 10524\n",
      "Movie: 賭博默示錄：最終遊戲, ID: 10791\n",
      "Movie: 人皮咒, ID: 10764\n",
      "Movie: 我的A級秘密, ID: 10763\n",
      "Movie: 極線生機, ID: 10762\n",
      "Movie: 死因無可疑, ID: 10755\n",
      "Movie: 超能西蒙的奇幻旅程, ID: 10754\n",
      "Movie: 戰爭中的鬼故事, ID: 10752\n",
      "Movie: 犬犬風塵, ID: 10744\n",
      "Movie: 鬼侍女, ID: 10735\n",
      "Movie: 頭號粉絲, ID: 10722\n",
      "Movie: 遇見世界上另一個你, ID: 10714\n",
      "Movie: 破處, ID: 10641\n",
      "Movie: 被遺忘的人生, ID: 10592\n",
      "Movie: 屍速列車 特別版, ID: 10784\n",
      "Movie: 慾望街車, ID: 10758\n",
      "Movie: 萬花嬉春, ID: 10748\n",
      "Movie: 愛情，是開始還是結束, ID: 10743\n",
      "Movie: 72小時前哨救援, ID: 10729\n",
      "Movie: 捕魔網, ID: 10727\n",
      "Movie: 福島50英雄, ID: 10726\n",
      "Movie: 親愛的小孩, ID: 10720\n",
      "Movie: 阿基拉, ID: 10710\n",
      "Movie: 鐵線蟲入侵, ID: 10704\n",
      "Movie: 超能追緝, ID: 10698\n",
      "Movie: 驚夢49天, ID: 10696\n",
      "Movie: 玩命Online：雙槍對決, ID: 10659\n",
      "Movie: 天后小助理, ID: 10559\n",
      "Movie: 失控特工, ID: 10734\n",
      "Movie: 明信片謀殺案, ID: 10724\n",
      "Movie: 射鵰英雄傳之東成西就, ID: 10694\n",
      "Movie: 銀翼殺手最終版, ID: 10732\n",
      "Movie: 北非諜影, ID: 10725\n",
      "Movie: 電影版聲之形, ID: 10706\n",
      "Movie: 深海擴散, ID: 10697\n",
      "Movie: 普立茲記者, ID: 10670\n",
      "Movie: 諜影殺機, ID: 10742\n",
      "Movie: 當愛再來的時候, ID: 10660\n",
      "Movie: 關不住的誘惑, ID: 10741\n",
      "Movie: 雙面遊戲, ID: 10642\n",
      "Movie: 謊畫情人, ID: 10577\n",
      "Movie: 1/2的魔法, ID: 10505\n",
      "Movie: 天氣之子, ID: 10645\n",
      "Movie: 末代皇帝, ID: 10640\n",
      "Movie: 陪你玩最大, ID: 10602\n",
      "Movie: 觸不到的愛, ID: 10598\n",
      "Movie: 金都, ID: 10530\n",
      "Movie: 壞教育, ID: 10617\n",
      "Movie: 數碼寶貝 LAST EVOLUTION 絆, ID: 10572\n",
      "Movie: 浪人47愁錢中, ID: 10596\n",
      "Movie: 鑰命監獄, ID: 10579\n",
      "Movie: 居禮夫人：放射永恆, ID: 10537\n",
      "Movie: 謝謝你, ID: 10571\n",
      "Movie: 搞鬼, ID: 10570\n",
      "Movie: 間諜速成班, ID: 10538\n",
      "Movie: 魔髮精靈唱遊世界, ID: 10466\n",
      "Movie: 迷雁返家路, ID: 10533\n",
      "Movie: 最後晚安曲, ID: 10499\n",
      "Movie: 血衛, ID: 10469\n",
      "Movie: 女鬼橋, ID: 10437\n",
      "Movie: 叔．叔, ID: 10371\n",
      "Movie: 隱形人, ID: 10359\n",
      "Movie: 猛禽小隊：小丑女大解放, ID: 10268\n",
      "Movie: 紅鞋公主與七矮人, ID: 10417\n",
      "Movie: 杜立德, ID: 10316\n",
      "Movie: 巧虎電影：英雄遊樂園, ID: 10429\n",
      "Movie: 花生醬獵鷹的願望, ID: 10340\n",
      "Movie: 冰雪奇緣2, ID: 9597\n",
      "Movie: 大餓, ID: 10296\n",
      "Movie: 鬼船瑪麗號, ID: 10265\n",
      "Movie: 在時間停止的世界相遇, ID: 10259\n",
      "Movie: AI終結戰, ID: 10057\n",
      "Movie: 鎖命危機, ID: 9251\n",
      "Movie: 一首搖滾上月球, ID: 4887\n",
      "Movie: 錢不夠用2, ID: 3026\n"
     ]
    }
   ],
   "source": [
    "# 查看目前上映那些電影，並擷取出其ID資訊\n",
    "url = 'https://movies.yahoo.com.tw/'\n",
    "resp = requests.get(url)\n",
    "resp.encoding = 'utf-8'\n",
    "\n",
    "soup = BeautifulSoup(resp.text, 'lxml')\n",
    "html = soup.find(\"select\", attrs={'name':'movie_id'})\n",
    "movie_item = html.find_all(\"option\", attrs={'data-name':re.compile('.*')})\n",
    "\n",
    "print(len(movie_item))\n",
    "\n",
    "for p in movie_item:\n",
    "    print(\"Movie: %s, ID: %s\" % (p[\"data-name\"], p[\"value\"]))"
   ]
  },
  {
   "cell_type": "markdown",
   "metadata": {},
   "source": [
    "### 指定你有興趣的電影其ID，然後查詢其放映地區資訊。"
   ]
  },
  {
   "cell_type": "code",
   "execution_count": 84,
   "metadata": {},
   "outputs": [],
   "source": [
    "# 參考前一個步驟中擷取到的ID資訊，並指定ID\n",
    "movie_id = 5350"
   ]
  },
  {
   "cell_type": "code",
   "execution_count": 85,
   "metadata": {},
   "outputs": [
    {
     "name": "stdout",
     "output_type": "stream",
     "text": [
      "放映地區: 台北市, 代號(area_id): 28\n",
      "放映地區: 新北市, 代號(area_id): 8\n",
      "放映地區: 桃園, 代號(area_id): 16\n",
      "放映地區: 新竹, 代號(area_id): 20\n",
      "放映地區: 苗栗, 代號(area_id): 15\n",
      "放映地區: 台中, 代號(area_id): 2\n",
      "放映地區: 台南, 代號(area_id): 10\n",
      "放映地區: 高雄, 代號(area_id): 17\n",
      "放映地區: 宜蘭, 代號(area_id): 11\n",
      "放映地區: 花蓮, 代號(area_id): 12\n"
     ]
    }
   ],
   "source": [
    "url = 'https://movies.yahoo.com.tw/api/v1/areas_by_movie_theater'\n",
    "payload = {'movie_id':str(movie_id)}\n",
    "\n",
    "# 模擬一個header\n",
    "headers = {\n",
    "    'authority': 'movies.yahoo.com.tw',\n",
    "    'method': 'GET',\n",
    "    'path': '/api/v1/areas_by_movie_theater?movie_id=' + str(movie_id),\n",
    "    'scheme': 'https',\n",
    "    'accept': 'application/json, text/javascript, */*; q=0.01',\n",
    "    'accept-encoding': 'gzip, deflate, br',\n",
    "    'accept-language': 'zh-TW,zh;q=0.9,en-US;q=0.8,en;q=0.7,zh-CN;q=0.6',\n",
    "    'cookie': 'rxx=9s3x2fws06.1g16irnc&v=1; _ga=GA1.3.2056742944.1551651301; GUC=AQEBAQFczFpdm0IfmwSB&s=AQAAACoo4N5D&g=XMsVBw; BX=4hkdk1decm57t&b=3&s=mr; _ga=GA1.4.2056742944.1551651301; nexagesuid=82843256dd234e8e91aa73f2062f8218; browsed_movie=eyJpdiI6IlJXWWtiSWJaZlNGK2MxQnhscnVUYWc9PSIsInZhbHVlIjoiMXRhMmVHRXRIeUNjc1RBWDJzdGYwbnlIQURmWGsrcjJSMzhkbkcraDNJVUNIZEZsbzU3amlFcVZ1NzlmazJrTGpoMjVrbHk1YmpoRENXaHZTOUw1TmI2ZTZVWHdOejZQZm16RmVuMWlHTTJLaTZLVFZZVkFOMDlTd1wvSGltcytJIiwibWFjIjoiZWQ2ZjA4MmVjZmZlYjlmNjJmYmY2NGMyMDI0Njc0NWViYjVkOWE2NDg0N2RhODMxZjBjZDhiMmJhZTc2MDZhYiJ9; avi=eyJpdiI6Im1NeWFJRlVRWDR1endEcGRGUGJUbVE9PSIsInZhbHVlIjoickRpU3JuUytmcGl6cjF5OW0rNU9iZz09IiwibWFjIjoiY2VmY2NkNzZmM2NhNjY5YzlkOTcyNjE5OGEyMzU0NWYxOTdmMDRkMDY3OWNmMmZjOTMxYjc5MjI5N2Q5NGE5MiJ9; cmp=t=1559391030&j=0; _gid=GA1.4.779543841.1559391031; XSRF-TOKEN=eyJpdiI6IkhpS2hGcDRQaHlmWUJmaHdSS2Q2bHc9PSIsInZhbHVlIjoiOUVoNFk4OHI1UUZmUWRtYXhza0MyWjJSTlhlZ3RnT0VGeVJPN2JuczVRMGRFdWt2OUlsamVKeHRobFwvcHBGM0dhU3VyMXNGTHlsb2dVM2l0U1hpUGxBPT0iLCJtYWMiOiJkZWU4YzJhNjAxMTY3MzE4Y2ExNWIxYmE1ZjE1YWZlZTlhOTcyYjc4M2RlZGY4ZWNjZDYyMTA2NGYwZGViMzc2In0%3D; m_s=eyJpdiI6InpsZHZ2Tk1BZ0dxaHhETml1RjBnUXc9PSIsInZhbHVlIjoiSkNGeHUranRoXC85bDFiaDhySTJqNkJRcWdjWUxjeVRJSHVYZ1wvd2d4bWJZUTUrSHVDM0lUcW5KNHdETFZ4T1lieU81OUhzc1VoUXhZcWk0UDZSQXVFdz09IiwibWFjIjoiYmJkMDJkMDhlODIzMzcyMWY4M2NmYWNjNGVlOWRjMDIwZmVmNzAyMjE3Yzg3ZGY3ODBkZWEzZTI4MTI5ZWNmOSJ9; _gat=1; nexagesd=10',\n",
    "    'dnt': '1',\n",
    "    'mv-authorization': '21835b082e15b91a69b3851eec7b31b82ce82afb',\n",
    "    'referer': 'https://movies.yahoo.com.tw/',\n",
    "    'user-agent': 'Mozilla/5.0 (Windows NT 10.0; Win64; x64) AppleWebKit/537.36 (KHTML, like Gecko) Chrome/74.0.3729.169 Safari/537.36',\n",
    "    'x-requested-with': 'XMLHttpRequest',\n",
    "}\n",
    "\n",
    "resp = requests.get(url, params=payload, headers=headers)\n",
    "# print(resp.json())  # 若有需要，列印出json原始碼\n",
    "\n",
    "# 這裡回傳的格式是JSON格式的資料，要解析JSON擷取資料\n",
    "for p in resp.json():\n",
    "    print('放映地區: {0}, 代號(area_id): {1}'.format(p['title'], p['area_id']))"
   ]
  },
  {
   "cell_type": "markdown",
   "metadata": {},
   "source": [
    "### 指定你想要觀看的放映地區，查詢有上映電影的場次日期"
   ]
  },
  {
   "cell_type": "code",
   "execution_count": 86,
   "metadata": {},
   "outputs": [],
   "source": [
    "# 指定放映地區\n",
    "area_id = 28"
   ]
  },
  {
   "cell_type": "code",
   "execution_count": 87,
   "metadata": {},
   "outputs": [
    {
     "name": "stdout",
     "output_type": "stream",
     "text": [
      "七月 22\n",
      "七月 23\n",
      "七月 24\n",
      "七月 25\n",
      "七月 26\n"
     ]
    }
   ],
   "source": [
    "# 向網站發送請求\n",
    "url = 'https://movies.yahoo.com.tw/movietime_result.html'\n",
    "payload = {'movie_id':str(movie_id), 'area_id':str(area_id)}\n",
    "resp = requests.get(url, params=payload)\n",
    "resp.encoding = 'utf-8'\n",
    "\n",
    "soup = BeautifulSoup(resp.text, 'lxml')\n",
    "movie_date = soup.find_all(\"label\", attrs={'for':re.compile(\"date_[\\d]\")})\n",
    "\n",
    "# 列印播放日期\n",
    "for date in movie_date:\n",
    "    print(\"%s %s\" % (date.p.string, date.h3.string))"
   ]
  },
  {
   "cell_type": "markdown",
   "metadata": {},
   "source": [
    "### 最後指定觀看的日期，查詢並列印出放映的電影院、放映類型(數位、3D、IMAX 3D...)、放映時間等資訊。"
   ]
  },
  {
   "cell_type": "code",
   "execution_count": 88,
   "metadata": {},
   "outputs": [],
   "source": [
    "# 選定要觀看的日期\n",
    "date = \"2020-07-23\""
   ]
  },
  {
   "cell_type": "code",
   "execution_count": 89,
   "metadata": {
    "scrolled": true
   },
   "outputs": [],
   "source": [
    "# 向網站發送請求，獲取上映的電影院及時間資訊\n",
    "url = \"https://movies.yahoo.com.tw/ajax/pc/get_schedule_by_movie\"\n",
    "payload = {'movie_id':str(movie_id),\n",
    "           'date':date,\n",
    "           'area_id':str(area_id),\n",
    "           'theater_id':'',\n",
    "           'datetime':'',\n",
    "           'movie_type_id':''}\n",
    "\n",
    "resp = requests.get(url, params=payload)\n",
    "# print(resp.json()['view'])  # 若有需要，列印出json原始碼\n",
    "\n",
    "soup = BeautifulSoup(resp.json()['view'], 'lxml')\n",
    "html = soup.find_all(\"ul\", attrs={'data-theater_name':re.compile(\".*\")})"
   ]
  },
  {
   "cell_type": "code",
   "execution_count": 90,
   "metadata": {
    "scrolled": false
   },
   "outputs": [
    {
     "name": "stdout",
     "output_type": "stream",
     "text": [
      "----------------------------------------------------------------------\n",
      "電影院： 台北美麗華大直影城\n",
      "放映類型： 數位 \n",
      "2020-07-23 10:00:00\n",
      "2020-07-23 12:00:00\n",
      "2020-07-23 14:05:00\n",
      "2020-07-23 16:10:00\n",
      "2020-07-23 18:15:00\n",
      "2020-07-23 20:20:00\n",
      "2020-07-23 22:30:00\n",
      "----------------------------------------------------------------------\n",
      "電影院： 台北in89豪華數位影城\n",
      "放映類型： 數位 中文 \n",
      "2020-07-23 12:10:00\n",
      "2020-07-23 14:10:00\n",
      "2020-07-23 16:10:00\n",
      "2020-07-23 18:10:00\n",
      "2020-07-23 20:10:00\n",
      "2020-07-23 22:10:00\n",
      "----------------------------------------------------------------------\n",
      "電影院： 台北樂聲影城\n",
      "放映類型： 數位 \n",
      "2020-07-23 09:50:00\n",
      "2020-07-23 14:10:00\n",
      "2020-07-23 19:00:00\n",
      "2020-07-23 23:20:00\n",
      "2020-07-24 01:15:00\n",
      "----------------------------------------------------------------------\n",
      "電影院： 台北日新威秀影城\n",
      "放映類型： 數位 \n",
      "2020-07-23 14:40:00\n",
      "2020-07-23 16:35:00\n",
      "2020-07-23 18:30:00\n",
      "2020-07-23 20:25:00\n",
      "2020-07-23 22:20:00\n",
      "2020-07-24 00:15:00\n",
      "----------------------------------------------------------------------\n",
      "電影院： 喜滿客絕色影城\n",
      "放映類型： 數位 \n",
      "2020-07-23 11:00:00\n",
      "2020-07-23 12:55:00\n",
      "2020-07-23 14:50:00\n",
      "2020-07-23 16:45:00\n",
      "2020-07-23 17:40:00\n",
      "2020-07-23 18:40:00\n",
      "2020-07-23 19:40:00\n",
      "2020-07-23 20:35:00\n",
      "2020-07-23 22:30:00\n",
      "----------------------------------------------------------------------\n",
      "電影院： 台北信義威秀影城\n",
      "放映類型： 數位 \n",
      "2020-07-23 10:00:00\n",
      "2020-07-23 11:00:00\n",
      "2020-07-23 11:55:00\n",
      "2020-07-23 12:55:00\n",
      "2020-07-23 13:50:00\n",
      "2020-07-23 14:50:00\n",
      "2020-07-23 15:50:00\n",
      "2020-07-23 16:50:00\n",
      "2020-07-23 17:45:00\n",
      "2020-07-23 18:45:00\n",
      "2020-07-23 19:45:00\n",
      "2020-07-23 22:00:00\n",
      "2020-07-23 23:00:00\n",
      "2020-07-24 00:00:00\n",
      "2020-07-24 01:00:00\n",
      "----------------------------------------------------------------------\n",
      "電影院： 京站威秀影城\n",
      "放映類型： 數位 \n",
      "2020-07-23 09:55:00\n",
      "2020-07-23 11:55:00\n",
      "2020-07-23 12:50:00\n",
      "2020-07-23 13:55:00\n",
      "2020-07-23 15:00:00\n",
      "2020-07-23 16:00:00\n",
      "2020-07-23 18:00:00\n",
      "2020-07-23 20:00:00\n",
      "2020-07-23 21:10:00\n",
      "2020-07-23 22:15:00\n",
      "----------------------------------------------------------------------\n",
      "電影院： 台北新民生戲院\n",
      "放映類型： 數位 中文 \n",
      "2020-07-23 22:25:00\n",
      "----------------------------------------------------------------------\n",
      "電影院： 喜樂時代影城南港店\n",
      "放映類型： 數位 中文 \n",
      "2020-07-23 10:40:00\n",
      "2020-07-23 11:40:00\n",
      "2020-07-23 12:40:00\n",
      "2020-07-23 13:40:00\n",
      "2020-07-23 14:40:00\n",
      "2020-07-23 15:40:00\n",
      "2020-07-23 16:40:00\n",
      "2020-07-23 17:40:00\n",
      "2020-07-23 18:40:00\n",
      "2020-07-23 19:40:00\n",
      "2020-07-23 20:40:00\n",
      "2020-07-23 21:40:00\n",
      "2020-07-23 22:40:00\n",
      "----------------------------------------------------------------------\n",
      "電影院： MUVIE CINEMAS台北松仁威秀\n",
      "放映類型： 數位 \n",
      "2020-07-23 10:15:00\n",
      "2020-07-23 11:15:00\n",
      "2020-07-23 12:15:00\n",
      "2020-07-23 14:15:00\n",
      "2020-07-23 15:15:00\n",
      "2020-07-23 16:15:00\n",
      "2020-07-23 18:15:00\n",
      "2020-07-23 19:15:00\n",
      "2020-07-23 20:15:00\n",
      "2020-07-23 21:15:00\n"
     ]
    }
   ],
   "source": [
    "for time in html:\n",
    "    print('-'*70)\n",
    "    theater_name = time['data-theater_name']  #time.a.string,time.a.text同理\n",
    "    print('電影院：',theater_name)\n",
    "    style = time.find('li',class_ = \"taps\").text.replace('\\n','')  #text抓多個文本拼接，string只抓一個(超過或沒有返回None)\n",
    "    print('放映類型：',style)\n",
    "    time_c = time.find_all('input')\n",
    "    for d in time_c:\n",
    "        print(d['value'])"
   ]
  },
  {
   "cell_type": "code",
   "execution_count": null,
   "metadata": {},
   "outputs": [],
   "source": []
  }
 ],
 "metadata": {
  "kernelspec": {
   "display_name": "Python 3",
   "language": "python",
   "name": "python3"
  },
  "language_info": {
   "codemirror_mode": {
    "name": "ipython",
    "version": 3
   },
   "file_extension": ".py",
   "mimetype": "text/x-python",
   "name": "python",
   "nbconvert_exporter": "python",
   "pygments_lexer": "ipython3",
   "version": "3.7.6"
  }
 },
 "nbformat": 4,
 "nbformat_minor": 2
}
