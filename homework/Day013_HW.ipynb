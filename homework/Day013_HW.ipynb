{
 "cells": [
  {
   "cell_type": "markdown",
   "metadata": {},
   "source": [
    "# PTT 網路爬蟲實作練習\n",
    "\n",
    "\n",
    "* 能夠利用 Request + BeatifulSour 撰寫爬蟲，並存放到合適的資料結構\n"
   ]
  },
  {
   "cell_type": "markdown",
   "metadata": {},
   "source": [
    "## 作業目標\n",
    "\n",
    "根據範例 ，完成以下問題：\n",
    "\n",
    "* ① 印出最新文章的「作者」「標題」「時間」\n",
    "* ② 印出第一頁所有文章的「作者」「標題」「時間」\n"
   ]
  },
  {
   "cell_type": "code",
   "execution_count": 133,
   "metadata": {},
   "outputs": [],
   "source": [
    "def getData(url):\n",
    "    import requests\n",
    "    from bs4 import BeautifulSoup\n",
    "\n",
    "    data = []\n",
    "    headers = {'cookie':'over18=1',\n",
    "           'User-Agent':'Mozilla/5.0 (Windows NT 10.0; Win64; x64) AppleWebKit/537.36 (KHTML, like Gecko) Chrome/83.0.4103.61 Safari/537.36'\n",
    "          }\n",
    "    r = requests.get(url, headers=headers)\n",
    "    soup = BeautifulSoup(r.text, 'lxml')\n",
    "\n",
    "    for d in soup.find_all(class_ = 'title'):\n",
    "        try:\n",
    "            title = d.text.replace('\\t', '').replace('\\n', '') #標題\n",
    "            url_Combine = 'https://www.ptt.cc' + d.find('a')['href']\n",
    "            r = requests.get(url_Combine, headers=headers)\n",
    "            soup = BeautifulSoup(r.text, 'lxml')\n",
    "            author = soup.find(class_ = 'article-meta-value').text\n",
    "            time = soup.find_all(class_ = 'article-meta-value')[3].text\n",
    "            data.append({\n",
    "                '標題':title,\n",
    "                '作者':author,\n",
    "                '時間':time\n",
    "            })\n",
    "        except:\n",
    "            continue\n",
    "    return data\n",
    "\n",
    "def printData(data):\n",
    "    for d in range(len(data)):\n",
    "        print('標題：' + data[d]['標題'])\n",
    "        print('作者：' + data[d]['作者'])\n",
    "        print('時間：' + data[d]['時間'])"
   ]
  },
  {
   "cell_type": "markdown",
   "metadata": {},
   "source": [
    "### ① 印出最新文章的「作者」「標題」「時間」"
   ]
  },
  {
   "cell_type": "code",
   "execution_count": 134,
   "metadata": {},
   "outputs": [],
   "source": [
    "url = 'https://www.ptt.cc/bbs/NBA/index.html'\n",
    "data = getData(url)"
   ]
  },
  {
   "cell_type": "code",
   "execution_count": 135,
   "metadata": {},
   "outputs": [
    {
     "name": "stdout",
     "output_type": "stream",
     "text": [
      "標題：[情報] Conley：沒考慮過使用聯盟匿名舉報熱線，\n",
      "作者：Yui5 (唯控)\n",
      "時間：Wed Jul 15 19:06:27 2020\n"
     ]
    }
   ],
   "source": [
    "data = sorted(data, key = lambda x:x['時間'])\n",
    "print('標題：' + data[-1]['標題'])\n",
    "print('作者：' + data[-1]['作者'])\n",
    "print('時間：' + data[-1]['時間'])"
   ]
  },
  {
   "cell_type": "markdown",
   "metadata": {},
   "source": [
    "### ② 印出第一頁所有文章的「作者」「標題」「時間」"
   ]
  },
  {
   "cell_type": "code",
   "execution_count": 136,
   "metadata": {},
   "outputs": [],
   "source": [
    "url = 'https://www.ptt.cc/bbs/NBA/index.html'\n",
    "data = getData(url)"
   ]
  },
  {
   "cell_type": "code",
   "execution_count": 137,
   "metadata": {},
   "outputs": [
    {
     "name": "stdout",
     "output_type": "stream",
     "text": [
      "標題：Re: [情報] Russell Westbrook 確診\n",
      "作者：monmo (Gentleman monmo)\n",
      "時間：Tue Jul 14 10:22:59 2020\n",
      "標題：[情報] 鬍子抵達奧蘭多 （更新）\n",
      "作者：MrDK (DK)\n",
      "時間：Tue Jul 14 10:26:08 2020\n",
      "標題：[情報] 西門復賽可能回歸前鋒\n",
      "作者：wei33huang (毛瑋)\n",
      "時間：Tue Jul 14 10:50:19 2020\n",
      "標題：[花邊] 聯盟不准\"FreeHongKong\"球衣 但可賣\"Kill Cops\"球衣\n",
      "作者：pneumo (超☆冒險蓋)\n",
      "時間：Tue Jul 14 10:58:35 2020\n",
      "標題：[新聞] NBA頻傳染疫　2球員進園區後確診\n",
      "作者：admeta (陽明山)\n",
      "時間：Tue Jul 14 13:07:10 2020\n",
      "標題：[新聞] 合約與出席復賽無關 德羅展:不考慮下季事\n",
      "作者：DeMarDeRozan (大媽毒龍鑽)\n",
      "時間：Tue Jul 14 16:49:49 2020\n",
      "標題：[花邊] 字母哥「不抱怨」隔離園區還很感激 曝和兄弟住的希臘房子更\n",
      "作者：thnlkj0665 (灰色地帶)\n",
      "時間：Tue Jul 14 18:55:30 2020\n",
      "標題：[討論] 誰是『搭搭搭』的箇中好手 ?\n",
      "作者：triumphant10 ()\n",
      "時間：Tue Jul 14 22:43:02 2020\n",
      "標題：[情報] Brett Brown希望Embiid季後賽場均打38分鐘\n",
      "作者：thnlkj0665 (灰色地帶)\n",
      "時間：Tue Jul 14 23:23:21 2020\n",
      "標題：[新聞]停擺期間增強肌肉 泰托姆：綠衫軍有機會\n",
      "作者：sodistrues (true)\n",
      "時間：Tue Jul 14 23:51:27 2020\n",
      "標題：[情報] Harrison Barnes 確診\n",
      "作者：maydayholic (強納森小朋友)\n",
      "時間：Wed Jul 15 03:19:21 2020\n",
      "標題：[情報] Michael Beasley確診\n",
      "作者：Wall62 ()\n",
      "時間：Wed Jul 15 04:57:41 2020\n",
      "標題：[情報] Jimmy Butler在房間內運球被投訴\n",
      "作者：tripleaAAA (3A)\n",
      "時間：Wed Jul 15 09:25:23 2020\n",
      "標題：[情報] James Harden抵達奧蘭多\n",
      "作者：josephhou (Marion)\n",
      "時間：Wed Jul 15 09:59:07 2020\n",
      "標題：[花邊] 詹姆斯沒有攜帶私人廚師等人員至賽區，和\n",
      "作者：bbbyes123 (冬日將至)\n",
      "時間：Wed Jul 15 11:39:25 2020\n",
      "標題：[新聞] 畢斯利爆確診離隊 籃網正式簽下湯瑪斯  \n",
      "作者：star880613 ()\n",
      "時間：Wed Jul 15 11:54:02 2020\n",
      "標題：[花邊] NBA球員在奧蘭多迪士尼最愛的消遣: 釣魚\n",
      "作者：pneumo (超☆冒險蓋)\n",
      "時間：Wed Jul 15 12:26:05 2020\n",
      "標題：[新聞] 對格林原有高度期待 球評：他本季表現太讓我失望\n",
      "作者：kairiyu (E N O U G H  is  enough)\n",
      "時間：Wed Jul 15 14:47:21 2020\n",
      "標題：[花邊] 停賽4個月！甜瓜超精壯「身心都充滿活力\n",
      "作者：thnlkj0665 (灰色地帶)\n",
      "時間：Wed Jul 15 14:53:50 2020\n",
      "標題：[情報] Conley：沒考慮過使用聯盟匿名舉報熱線，\n",
      "作者：Yui5 (唯控)\n",
      "時間：Wed Jul 15 19:06:27 2020\n",
      "標題：[公告] 版主上任相關事項 \n",
      "作者：qazwsx879345 (Rajon Rondo)\n",
      "時間：Fri Oct 25 10:44:03 2019\n",
      "標題：[情報] SEASON Schedule 賽程 March 19–20\n",
      "作者：Acetoxy (阿斯)\n",
      "時間：Mon Mar  2 01:19:40 2020\n",
      "標題：[公告] 第一次被退文，可在三天後刪除退文\n",
      "作者：Vedan (味丹)\n",
      "時間：Mon Mar  9 11:44:26 2020\n",
      "標題：[公告] 板務說明 (發錢)\n",
      "作者：Vedan (味丹)\n",
      "時間：Fri Apr  3 01:28:00 2020\n"
     ]
    }
   ],
   "source": [
    "printData(data)"
   ]
  },
  {
   "cell_type": "markdown",
   "metadata": {},
   "source": [
    "### ③ 試著爬爬看其他版的文章"
   ]
  },
  {
   "cell_type": "code",
   "execution_count": 138,
   "metadata": {},
   "outputs": [],
   "source": [
    "url = 'https://www.ptt.cc/bbs/Tech_Job/index.html'\n",
    "data = getData(url)"
   ]
  },
  {
   "cell_type": "code",
   "execution_count": 139,
   "metadata": {},
   "outputs": [
    {
     "name": "stdout",
     "output_type": "stream",
     "text": [
      "標題：[請益] 台積TMASK3 Engineer\n",
      "作者：iq810228 (騎野豬追山羊)\n",
      "時間：Wed Jul 15 01:33:36 2020\n",
      "標題：[請益] MTK 產品工程師\n",
      "作者：wwmaple (chanchan)\n",
      "時間：Wed Jul 15 10:23:56 2020\n",
      "標題：[請益] 光洋科 製程整合工程師\n",
      "作者：sea4504 (let god lead)\n",
      "時間：Wed Jul 15 11:18:47 2020\n",
      "標題：[新聞] 軟銀傳賣安謀 蘋果可能有興趣收購\n",
      "作者：wahaha23 (請勿拍打餵食)\n",
      "時間：Wed Jul 15 11:46:51 2020\n",
      "標題：[面試] 台積電化學實驗室\n",
      "作者：taurusxxii (american_idiot)\n",
      "時間：Wed Jul 15 12:16:21 2020\n",
      "標題：[新聞] 台積續創歷史天價 張忠謀身價增百億\n",
      "作者：hvariables (Speculative Male)\n",
      "時間：Wed Jul 15 12:58:21 2020\n",
      "標題：Re: [請益] offer請益 (廣達/緯穎/普安)\n",
      "作者：Ferrara (紅燒冰淇淋)\n",
      "時間：Wed Jul 15 14:50:45 2020\n",
      "標題：Re: [討論] 強拉員工下台南，志同道合已死？？\n",
      "作者：st890512 (perry)\n",
      "時間：Wed Jul 15 16:16:39 2020\n",
      "標題：[新聞] 科技新創公司走向全球化，矽谷不再獨享優\n",
      "作者：zxcvxx (zxcvxx)\n",
      "時間：Wed Jul 15 16:46:08 2020\n",
      "標題：[新聞] 宜蘭就業博覽會25日登場 宜科廠商參與 \n",
      "作者：zzzz8931 (宅男)\n",
      "時間：Wed Jul 15 18:13:38 2020\n",
      "標題：[徵才] 竹科上櫃半導體測試公司-應屆畢業生招募\n",
      "作者：Laneine ( )\n",
      "時間：Wed Jul 15 18:53:25 2020\n",
      "標題：[請益] 請問蘋果公司在新竹有研發部門嗎？\n",
      "作者：nijawang (coco)\n",
      "時間：Wed Jul 15 19:21:01 2020\n",
      "標題：[新聞] 台灣投資率十年新高 全球疫情下走揚3關鍵\n",
      "作者：cjol (勤樸)\n",
      "時間：Wed Jul 15 20:19:54 2020\n",
      "標題：Re: [討論] 強拉員工下台南，志同道合已死？？\n",
      "作者：chuo11 (KKK)\n",
      "時間：Wed Jul 15 21:50:41 2020\n",
      "標題：請問內科德利科技有限公司\n",
      "作者：sweetpie (PIE)\n",
      "時間：Wed Jul 15 23:37:07 2020\n",
      "標題：[請益] offer請益\n",
      "作者：flt253 (小古)\n",
      "時間：Wed Jul 15 23:54:03 2020\n",
      "標題：[公告] Tech_Job板板規 2014.03.01\n",
      "作者：mmkntust (Blue Bleaching)\n",
      "時間：Sat Mar  1 11:55:32 2014\n",
      "標題：[公告] 置底 檢舉/推薦 文章\n",
      "作者：mmkntust (老王廚房)\n",
      "時間：Sun Sep  7 11:54:29 2014\n",
      "標題：[公告] 如何消除退文 轉自Ask板\n",
      "作者：mmkntust (老王廚房)\n",
      "時間：Mon Mar  2 11:59:48 2015\n",
      "標題：[情報] 律師為您解惑，免費勞動法問題諮詢服務\n",
      "作者：pzs ()\n",
      "時間：Thu Feb 14 14:06:29 2019\n",
      "標題：[情報] 薪資查詢平台\n",
      "作者：mmkntust (E=mc2)\n",
      "時間：Tue Mar 31 09:40:40 2020\n"
     ]
    }
   ],
   "source": [
    "printData(data)"
   ]
  },
  {
   "cell_type": "code",
   "execution_count": 141,
   "metadata": {},
   "outputs": [],
   "source": [
    "url = 'https://www.ptt.cc/bbs/Gossiping/index.html'\n",
    "data = getData(url)"
   ]
  },
  {
   "cell_type": "code",
   "execution_count": 142,
   "metadata": {},
   "outputs": [
    {
     "name": "stdout",
     "output_type": "stream",
     "text": [
      "標題：[問卦] 中國人都稱呼褲子拉鍊叫什麼水庫\n",
      "作者：colin810106 (臺灣阿姨王)\n",
      "時間：Thu Jul 16 00:27:57 2020\n",
      "標題：[問卦] 剪刀石頭布 發明之前 人類是怎麼猜拳的\n",
      "作者：poeta (鍵盤詩人)\n",
      "時間：Thu Jul 16 00:30:41 2020\n",
      "標題：Re: [問卦] 看著同學朋友一個一個成功 自己卻很廢?\n",
      "作者：nonpolar (Nonpolar)\n",
      "時間：Thu Jul 16 00:30:59 2020\n",
      "標題：[問卦] 覺得用膠帶黏螞蟻超爽正常嗎\n",
      "作者：Justin890820 (xd)\n",
      "時間：Thu Jul 16 00:31:06 2020\n",
      "標題：Re: [問卦] 土博差洋博在哪？\n",
      "作者：XXXD (我愛GG)\n",
      "時間：Thu Jul 16 00:31:45 2020\n",
      "標題：[問卦] 會喜歡貧乳是不是都是沒交過女友的人???\n",
      "作者：dispptt (dispptt)\n",
      "時間：Thu Jul 16 00:32:52 2020\n",
      "標題：[問卦] 枕頭套睡到破算節省嗎？\n",
      "作者：redDest (☺肛門廔管陣線☺)\n",
      "時間：Thu Jul 16 00:34:01 2020\n",
      "標題：Re: [問卦] 486先生有販售426的商品嗎?\n",
      "作者：Tchachavsky (柴)\n",
      "時間：Thu Jul 16 00:35:45 2020\n",
      "標題：[公告] 八卦板板規(2020.06.11)\n",
      "作者：seabox (盒盒)\n",
      "時間：Thu Jun 11 00:00:15 2020\n",
      "標題：[協尋] 行車記錄器 7/2(四) 早上7:30昌平路四段\n",
      "作者：jjjsai (眼淚不值錢)\n",
      "時間：Mon Jul  6 19:58:03 2020\n",
      "標題：[協尋] 行車紀錄器 7/7(二) 彰化林森西路環河街口\n",
      "作者：babygoat (杯逼夠特)\n",
      "時間：Tue Jul 14 14:59:14 2020\n",
      "標題：[公告] 數條板規修改草案於gossippicket討論\n",
      "作者：seabox (盒盒)\n",
      "時間：Tue Jul 14 22:03:46 2020\n"
     ]
    }
   ],
   "source": [
    "printData(data)"
   ]
  },
  {
   "cell_type": "code",
   "execution_count": null,
   "metadata": {},
   "outputs": [],
   "source": []
  }
 ],
 "metadata": {
  "kernelspec": {
   "display_name": "Python 3",
   "language": "python",
   "name": "python3"
  },
  "language_info": {
   "codemirror_mode": {
    "name": "ipython",
    "version": 3
   },
   "file_extension": ".py",
   "mimetype": "text/x-python",
   "name": "python",
   "nbconvert_exporter": "python",
   "pygments_lexer": "ipython3",
   "version": "3.7.6"
  }
 },
 "nbformat": 4,
 "nbformat_minor": 2
}
