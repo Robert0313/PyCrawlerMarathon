{
 "cells": [
  {
   "cell_type": "markdown",
   "metadata": {},
   "source": [
    "# PTT 網路爬蟲實作練習\n",
    "\n",
    "\n",
    "* 能夠利用 Request + BeatifulSour 撰寫爬蟲，並存放到合適的資料結構\n"
   ]
  },
  {
   "cell_type": "markdown",
   "metadata": {},
   "source": [
    "## 作業目標\n",
    "\n",
    "根據範例 ，完成以下問題：\n",
    "\n",
    "* ① 印出最新文章的「作者」「標題」「時間」\n",
    "* ② 印出第一頁所有文章的「作者」「標題」「時間」\n"
   ]
  },
  {
   "cell_type": "code",
   "execution_count": 85,
   "metadata": {
    "scrolled": false
   },
   "outputs": [],
   "source": [
    "def getData(url):\n",
    "    import requests\n",
    "    from bs4 import BeautifulSoup\n",
    "    import datetime\n",
    "    from dateutil.parser import parse\n",
    "\n",
    "    data = []\n",
    "    headers = {'cookie':'over18=1',\n",
    "           'User-Agent':'Mozilla/5.0 (Windows NT 10.0; Win64; x64) AppleWebKit/537.36 (KHTML, like Gecko) Chrome/83.0.4103.61 Safari/537.36'\n",
    "          }\n",
    "    r = requests.get(url, headers=headers)\n",
    "    soup = BeautifulSoup(r.text, 'lxml')\n",
    "\n",
    "    for d in soup.find_all(class_ = 'title'):\n",
    "        try:\n",
    "            title = d.text.replace('\\t', '').replace('\\n', '') #標題\n",
    "            url_Combine = 'https://www.ptt.cc' + d.find('a')['href']\n",
    "            r = requests.get(url_Combine, headers=headers)\n",
    "            soup = BeautifulSoup(r.text, 'lxml')\n",
    "            author = soup.find(class_ = 'article-meta-value').text\n",
    "            time = soup.find_all(class_ = 'article-meta-value')[3].text\n",
    "            time = parse(time)\n",
    "            data.append({\n",
    "                '標題':title,\n",
    "                '作者':author,\n",
    "                '時間':time\n",
    "            })\n",
    "        except:\n",
    "            continue\n",
    "    return data\n",
    "\n",
    "def printData(data):\n",
    "    for d in range(len(data)):\n",
    "        print('標題：' + data[d]['標題'])\n",
    "        print('作者：' + data[d]['作者'])\n",
    "        time = data[d]['時間'].strftime('%a %b %d %H:%M:%S %Y')\n",
    "        print('時間：' , time)"
   ]
  },
  {
   "cell_type": "markdown",
   "metadata": {},
   "source": [
    "### ① 印出最新文章的「作者」「標題」「時間」"
   ]
  },
  {
   "cell_type": "code",
   "execution_count": 86,
   "metadata": {},
   "outputs": [],
   "source": [
    "url = 'https://www.ptt.cc/bbs/NBA/index.html'\n",
    "data = getData(url)"
   ]
  },
  {
   "cell_type": "code",
   "execution_count": 87,
   "metadata": {},
   "outputs": [
    {
     "name": "stdout",
     "output_type": "stream",
     "text": [
      "標題：[外絮] NBA泡泡圈排名:預測奧蘭多前50強球員\n",
      "作者：VeryGoodBoy (低端男孩)\n",
      "時間： Thu Jul 23 22:09:47 2020\n"
     ]
    }
   ],
   "source": [
    "data = sorted(data, key = lambda x:x['時間'])\n",
    "print('標題：' + data[-1]['標題'])\n",
    "print('作者：' + data[-1]['作者'])\n",
    "time = data[-1]['時間'].strftime('%a %b %d %H:%M:%S %Y')\n",
    "print('時間：' , time)"
   ]
  },
  {
   "cell_type": "markdown",
   "metadata": {},
   "source": [
    "### ② 印出第一頁所有文章的「作者」「標題」「時間」"
   ]
  },
  {
   "cell_type": "code",
   "execution_count": 88,
   "metadata": {},
   "outputs": [],
   "source": [
    "url = 'https://www.ptt.cc/bbs/NBA/index.html'\n",
    "data = getData(url)"
   ]
  },
  {
   "cell_type": "code",
   "execution_count": 89,
   "metadata": {},
   "outputs": [
    {
     "name": "stdout",
     "output_type": "stream",
     "text": [
      "標題：Re: [BOX ] Wizards 82:89 Nuggets 數據\n",
      "作者：monmo (Gentleman monmo)\n",
      "時間： Thu Jul 23 11:29:24 2020\n",
      "標題：[專欄] Otto Porter拿頂薪 Dudley:Kuzma更有天賦\n",
      "作者：ckny (辛苦的歲月)\n",
      "時間： Thu Jul 23 12:30:53 2020\n",
      "標題：[新聞] 衛少重回球場難掩興奮　「感謝肺炎只讓\n",
      "作者：teramars (tomorrow never knows)\n",
      "時間： Thu Jul 23 13:07:58 2020\n",
      "標題：[外絮] 據報Baynes,Rubio以及另一名太陽球員確診\n",
      "作者：pneumo (超☆冒險蓋)\n",
      "時間： Thu Jul 23 13:16:23 2020\n",
      "標題：[新聞] NBA》停擺4個月！快艇熱身賽首戰16顆三分\n",
      "作者：wwf1588 (s-n-imn)\n",
      "時間： Thu Jul 23 13:45:03 2020\n",
      "標題：Re: [專欄] Otto Porter拿頂薪 Dudley:Kuzma更有天賦\n",
      "作者：Preach (溫哥華八弟)\n",
      "時間： Thu Jul 23 13:54:30 2020\n",
      "標題：[情報] 專家投票詹姆斯歷史排名，目前95.1%前五\n",
      "作者：VeryGoodBoy (低端男孩)\n",
      "時間： Thu Jul 23 15:38:39 2020\n",
      "標題：[討論] 尼克還有救嗎?\n",
      "作者：hass231470 ()\n",
      "時間： Thu Jul 23 17:40:08 2020\n",
      "標題：[情報] Dragic盛讚Duncan Robinson: 聯盟最佳射手\n",
      "作者：thnlkj0665 (灰色地帶)\n",
      "時間： Thu Jul 23 19:22:37 2020\n",
      "標題：[花邊] 金塊「死亡五大」陣容吸睛 莫雷推特幽默回應\n",
      "作者：thnlkj0665 (灰色地帶)\n",
      "時間： Thu Jul 23 21:52:01 2020\n",
      "標題：[外絮] NBA泡泡圈排名:預測奧蘭多前50強球員\n",
      "作者：VeryGoodBoy (低端男孩)\n",
      "時間： Thu Jul 23 22:09:47 2020\n",
      "標題：[公告] 第一次被退文，可在三天後刪除退文\n",
      "作者：Vedan (味丹)\n",
      "時間： Mon Mar 09 11:44:26 2020\n",
      "標題：[情報] SEASON Schedule 賽程 July 19–20\n",
      "作者：Acetoxy (阿斯)\n",
      "時間： Tue Jul 21 19:43:39 2020\n",
      "標題：[新聞] 復賽種子賽賽程(台灣時間)\n",
      "作者：kaikai1112 (骨髓捐贈match也是種緣份)\n",
      "時間： Tue Jul 21 19:24:04 2020\n",
      "標題：[情報] 復賽熱身混戰賽程(台灣時間)\n",
      "作者：kaikai1112 (骨髓捐贈match也是種緣份)\n",
      "時間： Tue Jul 21 18:52:35 2020\n"
     ]
    }
   ],
   "source": [
    "printData(data)"
   ]
  },
  {
   "cell_type": "markdown",
   "metadata": {},
   "source": [
    "### ③ 試著爬爬看其他版的文章"
   ]
  },
  {
   "cell_type": "code",
   "execution_count": 90,
   "metadata": {},
   "outputs": [],
   "source": [
    "url = 'https://www.ptt.cc/bbs/Tech_Job/index.html'\n",
    "data = getData(url)"
   ]
  },
  {
   "cell_type": "code",
   "execution_count": 91,
   "metadata": {},
   "outputs": [
    {
     "name": "stdout",
     "output_type": "stream",
     "text": [
      "標題：[新聞] 聯發科「時間管理大師」 5G經理劈6女 身\n",
      "作者：wahaha23 (請勿拍打餵食)\n",
      "時間： Thu Jul 23 07:07:00 2020\n",
      "標題：[新聞] 勞保年改草案年底出爐 勞長：若只動費率\n",
      "作者：cjol (勤樸)\n",
      "時間： Thu Jul 23 07:08:26 2020\n",
      "標題：[新聞] 輝達傳有意買下安謀！已與軟銀洽談可能性\n",
      "作者：jeff0025 ()\n",
      "時間： Thu Jul 23 08:49:01 2020\n",
      "標題：[情報] 8/5 AI on Chip智慧照顧與創新研討會\n",
      "作者：angelaki (秋天的天使 )\n",
      "時間： Thu Jul 23 10:12:08 2020\n",
      "標題：Re: [新聞] 聯電慘輸台積電？陳水扁揭關鍵差異：西進\n",
      "作者：douge (樹大便是美)\n",
      "時間： Thu Jul 23 10:48:35 2020\n",
      "標題：[新聞] 台積電貴森森 外資追世界先進\n",
      "作者：hvariables (Speculative Male)\n",
      "時間： Thu Jul 23 11:19:02 2020\n",
      "標題：[新聞] 半導體最愛用交大生 金融網路業偏好淡大\n",
      "作者：zzzz8931 (宅男)\n",
      "時間： Thu Jul 23 12:11:59 2020\n",
      "標題：[新聞] Graphcore推出第二代智慧處理器GC200、達\n",
      "作者：ynlin1996 (.)\n",
      "時間： Thu Jul 23 13:08:52 2020\n",
      "標題：[新聞] SEMI：半導體製造設備全球銷售2021年將達\n",
      "作者：zxcvxx (zxcvxx)\n",
      "時間： Thu Jul 23 13:54:41 2020\n",
      "標題：[討論] GG以後會不會不錄取中山的？\n",
      "作者：FcuKobe (逢甲狗鼻)\n",
      "時間： Thu Jul 23 14:07:49 2020\n",
      "標題：[討論] 離台工作的感染風險\n",
      "作者：a2032016 (右京)\n",
      "時間： Thu Jul 23 14:30:04 2020\n",
      "標題：[請益] 29歲學士 不知道期望待遇該開多少\n",
      "作者：j6cl3 (Jhon)\n",
      "時間： Thu Jul 23 14:38:55 2020\n",
      "標題：半導體戰記【劇本一】(下)  \n",
      "作者：sace (加爾萊迪)\n",
      "時間： Thu Jul 23 15:15:07 2020\n",
      "標題：Re: [新聞] 勞保年改草案年底出爐 勞長：若只動\n",
      "作者：NTUisgood (台大真好)\n",
      "時間： Thu Jul 23 19:33:03 2020\n",
      "標題：[徵才] Moxa 四零四徵才，年薪百萬起，可破兩百\n",
      "作者：catcatcatcat (貓貓貓貓)\n",
      "時間： Thu Jul 23 20:42:22 2020\n",
      "標題：[心得] 科技業雜談\n",
      "作者：pumafucker (pumafucker)\n",
      "時間： Thu Jul 23 22:26:55 2020\n",
      "標題：[公告] Tech_Job板板規 2014.03.01\n",
      "作者：mmkntust (Blue Bleaching)\n",
      "時間： Sat Mar 01 11:55:32 2014\n",
      "標題：[公告] 置底 檢舉/推薦 文章\n",
      "作者：mmkntust (老王廚房)\n",
      "時間： Sun Sep 07 11:54:29 2014\n",
      "標題：[公告] 如何消除退文 轉自Ask板\n",
      "作者：mmkntust (老王廚房)\n",
      "時間： Mon Mar 02 11:59:48 2015\n",
      "標題：[情報] 律師為您解惑，免費勞動法問題諮詢服務\n",
      "作者：pzs ()\n",
      "時間： Thu Feb 14 14:06:29 2019\n",
      "標題：[情報] 薪資查詢平台\n",
      "作者：mmkntust (E=mc2)\n",
      "時間： Tue Mar 31 09:40:40 2020\n"
     ]
    }
   ],
   "source": [
    "printData(data)"
   ]
  },
  {
   "cell_type": "code",
   "execution_count": 92,
   "metadata": {},
   "outputs": [],
   "source": [
    "url = 'https://www.ptt.cc/bbs/Gossiping/index.html'\n",
    "data = getData(url)"
   ]
  },
  {
   "cell_type": "code",
   "execution_count": 93,
   "metadata": {},
   "outputs": [
    {
     "name": "stdout",
     "output_type": "stream",
     "text": [
      "標題：[問卦] 八卦檢舉版的極限是七次嗎?\n",
      "作者：newper (別當Google不存在)\n",
      "時間： Thu Jul 23 22:41:19 2020\n",
      "標題：Re: [問卦] 智商極高的人都怎麼看待自己的情緒與人生\n",
      "作者：appledavid (新三寶:香蕉 鹿茸 太陽餅)\n",
      "時間： Thu Jul 23 22:42:01 2020\n",
      "標題：[問卦] 發生機率小的倒楣事後都會被慫恿簽樂透\n",
      "作者：ivorysoap (ivorysoap)\n",
      "時間： Thu Jul 23 22:43:23 2020\n",
      "標題：[問卦] 神鬼交鋒裡的李奧納多是不是過譽了？\n",
      "作者：volcom (優質建商)\n",
      "時間： Thu Jul 23 22:43:27 2020\n",
      "標題：[新聞] 身陷論文風暴 李眉蓁談到女兒哽咽到無法\n",
      "作者：ZhiLou (擁抱荒誕生命)\n",
      "時間： Thu Jul 23 22:43:55 2020\n",
      "標題：[問卦] 小江蕙vs小子瑜  孰更優？\n",
      "作者：SaintSeven (我喜歡妳)\n",
      "時間： Thu Jul 23 22:44:02 2020\n",
      "標題：[問卦] 中頭獎去台彩領錢一毛都不捐會怎樣？\n",
      "作者：farmer (^_^)\n",
      "時間： Thu Jul 23 22:44:20 2020\n",
      "標題：[問卦] 大木博士的論文是怎麼寫出來的？\n",
      "作者：LuchouLin (仙草妹妹)\n",
      "時間： Thu Jul 23 22:44:38 2020\n",
      "標題：[問卦] 手汗有解嗎？\n",
      "作者：colbie0102ye (broolyn1995)\n",
      "時間： Thu Jul 23 22:45:33 2020\n",
      "標題：[問卦] 燃燒著 那消逝在天際的流星\n",
      "作者：senma (ライフ☆ライン)\n",
      "時間： Thu Jul 23 22:46:06 2020\n",
      "標題：[問卦] 華碩筆電該延長保固嗎？\n",
      "作者：hmenri ()\n",
      "時間： Thu Jul 23 22:46:24 2020\n",
      "標題：Re: [新聞] 當年論文如何產出？李眉蓁：同學間相互\n",
      "作者：wiwi0526 (wiwi)\n",
      "時間： Thu Jul 23 22:46:41 2020\n",
      "標題：[問卦] 我當你空氣 你就是空氣\n",
      "作者：ai770116 (東方的神秘力量)\n",
      "時間： Thu Jul 23 22:46:48 2020\n",
      "標題：[新聞] 美太空軍軍徽亮相 格言「永遠在上」\n",
      "作者：F16V (Manners maketh man.)\n",
      "時間： Thu Jul 23 22:46:49 2020\n",
      "標題：[問卦] L.A. Boyz當年有多紅\n",
      "作者：haudai (低調)\n",
      "時間： Thu Jul 23 22:48:18 2020\n",
      "標題：[問卦] 精算一下 明年實拿薪水應該有178萬\n",
      "作者：underwood (安德伍德)\n",
      "時間： Thu Jul 23 22:48:22 2020\n",
      "標題：[新聞] 2020三峽藍染節 打造一場專屬三峽的藍染\n",
      "作者：rainjuly (深夜高速)\n",
      "時間： Thu Jul 23 22:48:39 2020\n",
      "標題：[問卦] 以前台人可以把曼谷房價炒高的八卦\n",
      "作者：aitt (非主流,有何不可(M))\n",
      "時間： Thu Jul 23 22:48:57 2020\n",
      "標題：[新聞] 中共加快武統步驟 台外長籲國際支持台灣\n",
      "作者：goldenhill (我的人權時代)\n",
      "時間： Thu Jul 23 22:48:49 2020\n",
      "標題：[公告] 八卦板板規(2020.07.21)\n",
      "作者：seabox (盒盒)\n",
      "時間： Tue Jul 21 00:00:04 2020\n",
      "標題：[協尋] 行車紀錄器 7/15 中和區中正中興路口\n",
      "作者：kuro1994 (blckkuro)\n",
      "時間： Sat Jul 18 00:20:21 2020\n",
      "標題：[協尋] 行車記錄器 7/18 國道一號南下往台中沙鹿\n",
      "作者：aich58879 (Mike)\n",
      "時間： Mon Jul 20 13:54:04 2020\n",
      "標題：［協尋］行車記錄器 7/21 新海橋往樹林 10k+300\n",
      "作者：ABOEDC (執行專才鑽石)\n",
      "時間： Tue Jul 21 22:48:50 2020\n",
      "標題：[公告] 七月置底閒聊區\n",
      "作者：seabox (盒盒)\n",
      "時間： Wed Jul 01 23:43:24 2020\n"
     ]
    }
   ],
   "source": [
    "printData(data)"
   ]
  },
  {
   "cell_type": "code",
   "execution_count": null,
   "metadata": {},
   "outputs": [],
   "source": []
  }
 ],
 "metadata": {
  "kernelspec": {
   "display_name": "Python 3",
   "language": "python",
   "name": "python3"
  },
  "language_info": {
   "codemirror_mode": {
    "name": "ipython",
    "version": 3
   },
   "file_extension": ".py",
   "mimetype": "text/x-python",
   "name": "python",
   "nbconvert_exporter": "python",
   "pygments_lexer": "ipython3",
   "version": "3.7.6"
  }
 },
 "nbformat": 4,
 "nbformat_minor": 2
}
