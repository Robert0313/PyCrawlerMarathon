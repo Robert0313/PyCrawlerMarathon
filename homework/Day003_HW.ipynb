{
 "cells": [
  {
   "cell_type": "markdown",
   "metadata": {},
   "source": [
    "# Python 下載XML檔案與解析\n",
    "\n",
    "\n",
    "* 了解 xml 檔案格式與內容\n",
    "* 能夠利用套件存取 xml 格式的檔案\n"
   ]
  },
  {
   "cell_type": "markdown",
   "metadata": {},
   "source": [
    "## 作業目標\n",
    "\n",
    "* 比較一下範例檔案中的「File I/O」與「xmltodict」讀出來的內容有什麼差異\n",
    "\n",
    "* 根據範例檔案的結果：\n",
    "    1. 請問高雄市有多少地區有溫度資料？\n",
    "    2. 請取出每一個地區所記錄的第一個時間點跟溫度\n",
    "    3. 請取出第一個地區所記錄的每一個時間點跟溫度"
   ]
  },
  {
   "cell_type": "code",
   "execution_count": 124,
   "metadata": {},
   "outputs": [],
   "source": [
    "import urllib.request\n",
    "import zipfile\n",
    "\n",
    "res = \"http://opendata.cwb.gov.tw/govdownload?dataid=F-D0047-093&authorizationkey=rdec-key-123-45678-011121314\"\n",
    "urllib.request.urlretrieve(res, \"./data/example.zip\")\n",
    "f = zipfile.ZipFile('./data/example.zip')\n",
    "f.extractall('./data/example')"
   ]
  },
  {
   "cell_type": "code",
   "execution_count": 125,
   "metadata": {},
   "outputs": [
    {
     "name": "stdout",
     "output_type": "stream",
     "text": [
      "09007_72hr_CH.xml\n",
      "09007_72hr_EN.xml\n",
      "09007_Week24_CH.xml\n",
      "09007_Week24_EN.xml\n",
      "09007_Weekday_CH.xml\n",
      "09007_Weekday_EN.xml\n",
      "09020_72hr_CH.xml\n",
      "09020_72hr_EN.xml\n",
      "09020_Week24_CH.xml\n",
      "09020_Week24_EN.xml\n",
      "09020_Weekday_CH.xml\n",
      "09020_Weekday_EN.xml\n",
      "10002_72hr_CH.xml\n",
      "10002_72hr_EN.xml\n",
      "10002_Week24_CH.xml\n",
      "10002_Week24_EN.xml\n",
      "10002_Weekday_CH.xml\n",
      "10002_Weekday_EN.xml\n",
      "10004_72hr_CH.xml\n",
      "10004_72hr_EN.xml\n",
      "10004_Week24_CH.xml\n",
      "10004_Week24_EN.xml\n",
      "10004_Weekday_CH.xml\n",
      "10004_Weekday_EN.xml\n",
      "10005_72hr_CH.xml\n",
      "10005_72hr_EN.xml\n",
      "10005_Week24_CH.xml\n",
      "10005_Week24_EN.xml\n",
      "10005_Weekday_CH.xml\n",
      "10005_Weekday_EN.xml\n",
      "10007_72hr_CH.xml\n",
      "10007_72hr_EN.xml\n",
      "10007_Week24_CH.xml\n",
      "10007_Week24_EN.xml\n",
      "10007_Weekday_CH.xml\n",
      "10007_Weekday_EN.xml\n",
      "10008_72hr_CH.xml\n",
      "10008_72hr_EN.xml\n",
      "10008_Week24_CH.xml\n",
      "10008_Week24_EN.xml\n",
      "10008_Weekday_CH.xml\n",
      "10008_Weekday_EN.xml\n",
      "10009_72hr_CH.xml\n",
      "10009_72hr_EN.xml\n",
      "10009_Week24_CH.xml\n",
      "10009_Week24_EN.xml\n",
      "10009_Weekday_CH.xml\n",
      "10009_Weekday_EN.xml\n",
      "10010_72hr_CH.xml\n",
      "10010_72hr_EN.xml\n",
      "10010_Week24_CH.xml\n",
      "10010_Week24_EN.xml\n",
      "10010_Weekday_CH.xml\n",
      "10010_Weekday_EN.xml\n",
      "10013_72hr_CH.xml\n",
      "10013_72hr_EN.xml\n",
      "10013_Week24_CH.xml\n",
      "10013_Week24_EN.xml\n",
      "10013_Weekday_CH.xml\n",
      "10013_Weekday_EN.xml\n",
      "10014_72hr_CH.xml\n",
      "10014_72hr_EN.xml\n",
      "10014_Week24_CH.xml\n",
      "10014_Week24_EN.xml\n",
      "10014_Weekday_CH.xml\n",
      "10014_Weekday_EN.xml\n",
      "10015_72hr_CH.xml\n",
      "10015_72hr_EN.xml\n",
      "10015_Week24_CH.xml\n",
      "10015_Week24_EN.xml\n",
      "10015_Weekday_CH.xml\n",
      "10015_Weekday_EN.xml\n",
      "10016_72hr_CH.xml\n",
      "10016_72hr_EN.xml\n",
      "10016_Week24_CH.xml\n",
      "10016_Week24_EN.xml\n",
      "10016_Weekday_CH.xml\n",
      "10016_Weekday_EN.xml\n",
      "10017_72hr_CH.xml\n",
      "10017_72hr_EN.xml\n",
      "10017_Week24_CH.xml\n",
      "10017_Week24_EN.xml\n",
      "10017_Weekday_CH.xml\n",
      "10017_Weekday_EN.xml\n",
      "10018_72hr_CH.xml\n",
      "10018_72hr_EN.xml\n",
      "10018_Week24_CH.xml\n",
      "10018_Week24_EN.xml\n",
      "10018_Weekday_CH.xml\n",
      "10018_Weekday_EN.xml\n",
      "10020_72hr_CH.xml\n",
      "10020_72hr_EN.xml\n",
      "10020_Week24_CH.xml\n",
      "10020_Week24_EN.xml\n",
      "10020_Weekday_CH.xml\n",
      "10020_Weekday_EN.xml\n",
      "63_72hr_CH.xml\n",
      "63_72hr_EN.xml\n",
      "63_Week24_CH.xml\n",
      "63_Week24_EN.xml\n",
      "63_Weekday_CH.xml\n",
      "63_Weekday_EN.xml\n",
      "64_72hr_CH.xml\n",
      "64_72hr_EN.xml\n",
      "64_Week24_CH.xml\n",
      "64_Week24_EN.xml\n",
      "64_Weekday_CH.xml\n",
      "64_Weekday_EN.xml\n",
      "65_72hr_CH.xml\n",
      "65_72hr_EN.xml\n",
      "65_Week24_CH.xml\n",
      "65_Week24_EN.xml\n",
      "65_Weekday_CH.xml\n",
      "65_Weekday_EN.xml\n",
      "66_72hr_CH.xml\n",
      "66_72hr_EN.xml\n",
      "66_Week24_CH.xml\n",
      "66_Week24_EN.xml\n",
      "66_Weekday_CH.xml\n",
      "66_Weekday_EN.xml\n",
      "67_72hr_CH.xml\n",
      "67_72hr_EN.xml\n",
      "67_Week24_CH.xml\n",
      "67_Week24_EN.xml\n",
      "67_Weekday_CH.xml\n",
      "67_Weekday_EN.xml\n",
      "68_72hr_CH.xml\n",
      "68_72hr_EN.xml\n",
      "68_Week24_CH.xml\n",
      "68_Week24_EN.xml\n",
      "68_Weekday_CH.xml\n",
      "68_Weekday_EN.xml\n",
      "TAIWAN_72hr_CH.xml\n",
      "TAIWAN_72hr_EN.xml\n",
      "TAIWAN_Week24_CH.xml\n",
      "TAIWAN_Week24_EN.xml\n",
      "TAIWAN_Weekday_CH.xml\n",
      "TAIWAN_Weekday_EN.xml\n"
     ]
    }
   ],
   "source": [
    "import os, sys\n",
    "\n",
    "# 打开文件\n",
    "dirs = os.listdir( './data/example' )\n",
    "\n",
    "# 输出所有文件和文件夹\n",
    "for file in dirs:\n",
    "    print(file)"
   ]
  },
  {
   "cell_type": "markdown",
   "metadata": {},
   "source": [
    "### 比較一下範例檔案中的「File I/O」與「xmltodict」讀出來的內容有什麼差異\n"
   ]
  },
  {
   "cell_type": "code",
   "execution_count": 126,
   "metadata": {},
   "outputs": [
    {
     "name": "stdout",
     "output_type": "stream",
     "text": [
      "<class 'str'>\n"
     ]
    }
   ],
   "source": [
    "with open('./data/example/64_72hr_CH.xml', \"r\", encoding = 'utf-8') as fh:\n",
    "    xml = fh.read()\n",
    "print(type(xml))\n",
    "# print(xml)"
   ]
  },
  {
   "cell_type": "code",
   "execution_count": 127,
   "metadata": {},
   "outputs": [
    {
     "name": "stdout",
     "output_type": "stream",
     "text": [
      "<class 'dict'>\n"
     ]
    }
   ],
   "source": [
    "import xmltodict\n",
    "\n",
    "with open('./data/example/64_72hr_CH.xml', \"r\", encoding = 'utf-8') as fd:\n",
    "    d = dict(xmltodict.parse(fd.read()))\n",
    "print(type(d))\n",
    "# print(d)"
   ]
  },
  {
   "cell_type": "code",
   "execution_count": 128,
   "metadata": {},
   "outputs": [
    {
     "name": "stdout",
     "output_type": "stream",
     "text": [
      "臺灣各縣市鄉鎮未來3天(72小時)逐3小時天氣預報\n"
     ]
    }
   ],
   "source": [
    "datasetDescription = d['cwbopendata']['dataset']['datasetInfo']['datasetDescription']\n",
    "print(datasetDescription)"
   ]
  },
  {
   "cell_type": "markdown",
   "metadata": {},
   "source": [
    "### 根據範例檔案的結果：\n",
    "\n",
    "1. 請問高雄市有多少地區有溫度資料？\n",
    "2. 請取出每一個地區所記錄的第一個時間點跟溫度\n",
    "3. 請取出第一個地區所記錄的每一個時間點跟溫度"
   ]
  },
  {
   "cell_type": "code",
   "execution_count": 276,
   "metadata": {},
   "outputs": [
    {
     "name": "stdout",
     "output_type": "stream",
     "text": [
      "高雄市\n",
      "38\n",
      "鹽埕區\n",
      "鼓山區\n",
      "左營區\n",
      "楠梓區\n",
      "三民區\n",
      "新興區\n",
      "前金區\n",
      "苓雅區\n",
      "前鎮區\n",
      "旗津區\n",
      "小港區\n",
      "鳳山區\n",
      "林園區\n",
      "大寮區\n",
      "大樹區\n",
      "大社區\n",
      "仁武區\n",
      "鳥松區\n",
      "岡山區\n",
      "橋頭區\n",
      "燕巢區\n",
      "田寮區\n",
      "阿蓮區\n",
      "路竹區\n",
      "湖內區\n",
      "茄萣區\n",
      "永安區\n",
      "彌陀區\n",
      "梓官區\n",
      "旗山區\n",
      "美濃區\n",
      "六龜區\n",
      "甲仙區\n",
      "杉林區\n",
      "內門區\n",
      "茂林區\n",
      "桃源區\n",
      "那瑪夏區\n"
     ]
    }
   ],
   "source": [
    "# 1. 請問高雄市有多少地區有溫度資料？\n",
    "\n",
    "# 存取檔案\n",
    "\n",
    "# 存取我們的資訊\n",
    "print(d['cwbopendata']['dataset']['locations']['locationsName'])\n",
    "\n",
    "# 用迴圈存取我們的資訊\n",
    "locations = d['cwbopendata']['dataset']['locations']['location']\n",
    "print(len(locations))\n",
    "\n",
    "for locationName in locations:\n",
    "    print(locationName['locationName'])\n"
   ]
  },
  {
   "cell_type": "code",
   "execution_count": 279,
   "metadata": {},
   "outputs": [
    {
     "name": "stdout",
     "output_type": "stream",
     "text": [
      "鹽埕區 2020-06-27T12:00:00+08:00 33 攝氏度\n",
      "鼓山區 2020-06-27T12:00:00+08:00 33 攝氏度\n",
      "左營區 2020-06-27T12:00:00+08:00 32 攝氏度\n",
      "楠梓區 2020-06-27T12:00:00+08:00 33 攝氏度\n",
      "三民區 2020-06-27T12:00:00+08:00 32 攝氏度\n",
      "新興區 2020-06-27T12:00:00+08:00 33 攝氏度\n",
      "前金區 2020-06-27T12:00:00+08:00 33 攝氏度\n",
      "苓雅區 2020-06-27T12:00:00+08:00 33 攝氏度\n",
      "前鎮區 2020-06-27T12:00:00+08:00 34 攝氏度\n",
      "旗津區 2020-06-27T12:00:00+08:00 33 攝氏度\n",
      "小港區 2020-06-27T12:00:00+08:00 34 攝氏度\n",
      "鳳山區 2020-06-27T12:00:00+08:00 34 攝氏度\n",
      "林園區 2020-06-27T12:00:00+08:00 34 攝氏度\n",
      "大寮區 2020-06-27T12:00:00+08:00 34 攝氏度\n",
      "大樹區 2020-06-27T12:00:00+08:00 34 攝氏度\n",
      "大社區 2020-06-27T12:00:00+08:00 33 攝氏度\n",
      "仁武區 2020-06-27T12:00:00+08:00 33 攝氏度\n",
      "鳥松區 2020-06-27T12:00:00+08:00 34 攝氏度\n",
      "岡山區 2020-06-27T12:00:00+08:00 33 攝氏度\n",
      "橋頭區 2020-06-27T12:00:00+08:00 34 攝氏度\n",
      "燕巢區 2020-06-27T12:00:00+08:00 33 攝氏度\n",
      "田寮區 2020-06-27T12:00:00+08:00 33 攝氏度\n",
      "阿蓮區 2020-06-27T12:00:00+08:00 33 攝氏度\n",
      "路竹區 2020-06-27T12:00:00+08:00 33 攝氏度\n",
      "湖內區 2020-06-27T12:00:00+08:00 33 攝氏度\n",
      "茄萣區 2020-06-27T12:00:00+08:00 33 攝氏度\n",
      "永安區 2020-06-27T12:00:00+08:00 32 攝氏度\n",
      "彌陀區 2020-06-27T12:00:00+08:00 32 攝氏度\n",
      "梓官區 2020-06-27T12:00:00+08:00 33 攝氏度\n",
      "旗山區 2020-06-27T12:00:00+08:00 34 攝氏度\n",
      "美濃區 2020-06-27T12:00:00+08:00 35 攝氏度\n",
      "六龜區 2020-06-27T12:00:00+08:00 34 攝氏度\n",
      "甲仙區 2020-06-27T12:00:00+08:00 35 攝氏度\n",
      "杉林區 2020-06-27T12:00:00+08:00 36 攝氏度\n",
      "內門區 2020-06-27T12:00:00+08:00 34 攝氏度\n",
      "茂林區 2020-06-27T12:00:00+08:00 35 攝氏度\n",
      "桃源區 2020-06-27T12:00:00+08:00 32 攝氏度\n",
      "那瑪夏區 2020-06-27T12:00:00+08:00 30 攝氏度\n"
     ]
    }
   ],
   "source": [
    "# 2. 請取出每一個地區所記錄的第一個時間點跟溫度\n",
    "\n",
    "for firstTempInEveryPlace in locations:\n",
    "    print(firstTempInEveryPlace['locationName'],\\\n",
    "          firstTempInEveryPlace['weatherElement'][0]['time'][0]['dataTime'],\\\n",
    "          firstTempInEveryPlace['weatherElement'][0]['time'][0]['elementValue']['value'],\\\n",
    "          firstTempInEveryPlace['weatherElement'][0]['time'][0]['elementValue']['measures'])\n"
   ]
  },
  {
   "cell_type": "code",
   "execution_count": 280,
   "metadata": {},
   "outputs": [
    {
     "name": "stdout",
     "output_type": "stream",
     "text": [
      "鹽埕區\n",
      "2020-06-27T12:00:00+08:00 33 攝氏度\n",
      "2020-06-27T15:00:00+08:00 32 攝氏度\n",
      "2020-06-27T18:00:00+08:00 31 攝氏度\n",
      "2020-06-27T21:00:00+08:00 30 攝氏度\n",
      "2020-06-28T00:00:00+08:00 30 攝氏度\n",
      "2020-06-28T03:00:00+08:00 29 攝氏度\n",
      "2020-06-28T06:00:00+08:00 28 攝氏度\n",
      "2020-06-28T09:00:00+08:00 31 攝氏度\n",
      "2020-06-28T12:00:00+08:00 33 攝氏度\n",
      "2020-06-28T15:00:00+08:00 32 攝氏度\n",
      "2020-06-28T18:00:00+08:00 31 攝氏度\n",
      "2020-06-28T21:00:00+08:00 30 攝氏度\n",
      "2020-06-29T00:00:00+08:00 30 攝氏度\n",
      "2020-06-29T03:00:00+08:00 29 攝氏度\n",
      "2020-06-29T06:00:00+08:00 28 攝氏度\n",
      "2020-06-29T09:00:00+08:00 31 攝氏度\n",
      "2020-06-29T12:00:00+08:00 32 攝氏度\n",
      "2020-06-29T15:00:00+08:00 32 攝氏度\n",
      "2020-06-29T18:00:00+08:00 31 攝氏度\n",
      "2020-06-29T21:00:00+08:00 30 攝氏度\n",
      "2020-06-30T00:00:00+08:00 30 攝氏度\n",
      "2020-06-30T03:00:00+08:00 29 攝氏度\n",
      "2020-06-30T06:00:00+08:00 28 攝氏度\n",
      "2020-06-30T09:00:00+08:00 31 攝氏度\n"
     ]
    }
   ],
   "source": [
    "# 3. 請取出第一個地區所記錄的每一個時間點跟溫度\n",
    "print(locations[0]['locationName'])\n",
    "for everyTempInFirstPlace in location[0]['weatherElement'][0]['time']:\n",
    "    print(everyTempInFirstPlace['dataTime'],\\\n",
    "          everyTempInFirstPlace['elementValue']['value'],\\\n",
    "          everyTempInFirstPlace['elementValue']['measures'])\n"
   ]
  },
  {
   "cell_type": "code",
   "execution_count": null,
   "metadata": {},
   "outputs": [],
   "source": []
  }
 ],
 "metadata": {
  "kernelspec": {
   "display_name": "Python 3",
   "language": "python",
   "name": "python3"
  },
  "language_info": {
   "codemirror_mode": {
    "name": "ipython",
    "version": 3
   },
   "file_extension": ".py",
   "mimetype": "text/x-python",
   "name": "python",
   "nbconvert_exporter": "python",
   "pygments_lexer": "ipython3",
   "version": "3.7.6"
  }
 },
 "nbformat": 4,
 "nbformat_minor": 2
}
