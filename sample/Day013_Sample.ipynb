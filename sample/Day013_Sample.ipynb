{
 "cells": [
  {
   "cell_type": "markdown",
   "metadata": {},
   "source": [
    "# PTT 網路爬蟲實作練習\n",
    "\n",
    "\n",
    "* 能夠利用 Request + BeatifulSour 撰寫爬蟲，並存放到合適的資料結構\n"
   ]
  },
  {
   "cell_type": "markdown",
   "metadata": {},
   "source": [
    "## PTT 網頁爬蟲"
   ]
  },
  {
   "cell_type": "code",
   "execution_count": 1,
   "metadata": {},
   "outputs": [
    {
     "name": "stdout",
     "output_type": "stream",
     "text": [
      "Re: [情報] Russell Westbrook 確診\n",
      "作者: monmo (Gentleman monmo)\n",
      "[情報] 鬍子抵達奧蘭多 （更新）\n",
      "作者: MrDK (DK)\n",
      "[情報] 西門復賽可能回歸前鋒\n",
      "作者: wei33huang (毛瑋)\n",
      "[花邊] 聯盟不准\"FreeHongKong\"球衣 但可賣\"Kill Cops\"球衣\n",
      "作者: pneumo (超☆冒險蓋)\n",
      "[新聞] NBA頻傳染疫　2球員進園區後確診\n",
      "作者: admeta (陽明山)\n",
      "[新聞] 合約與出席復賽無關 德羅展:不考慮下季事\n",
      "作者: DeMarDeRozan (大媽毒龍鑽)\n",
      "[花邊] 字母哥「不抱怨」隔離園區還很感激 曝和兄弟住的希臘房子更\n",
      "作者: thnlkj0665 (灰色地帶)\n",
      "[討論] 誰是『搭搭搭』的箇中好手 ?\n",
      "作者: triumphant10 ()\n",
      "[情報] Brett Brown希望Embiid季後賽場均打38分鐘\n",
      "作者: thnlkj0665 (灰色地帶)\n",
      "[新聞]停擺期間增強肌肉 泰托姆：綠衫軍有機會\n",
      "作者: sodistrues (true)\n",
      "[情報] Harrison Barnes 確診\n",
      "作者: maydayholic (強納森小朋友)\n",
      "[情報] Michael Beasley確診\n",
      "作者: Wall62 ()\n",
      "[情報] Jimmy Butler在房間內運球被投訴\n",
      "作者: tripleaAAA (3A)\n",
      "[情報] James Harden抵達奧蘭多\n",
      "作者: josephhou (Marion)\n",
      "[花邊] 詹姆斯沒有攜帶私人廚師等人員至賽區，和\n",
      "作者: bbbyes123 (冬日將至)\n",
      "[新聞] 畢斯利爆確診離隊 籃網正式簽下湯瑪斯  \n",
      "作者: star880613 ()\n",
      "[花邊] NBA球員在奧蘭多迪士尼最愛的消遣: 釣魚\n",
      "作者: pneumo (超☆冒險蓋)\n",
      "[新聞] 對格林原有高度期待 球評：他本季表現太讓我失望\n",
      "作者: kairiyu (E N O U G H  is  enough)\n",
      "[花邊] 停賽4個月！甜瓜超精壯「身心都充滿活力\n",
      "作者: thnlkj0665 (灰色地帶)\n",
      "[情報] Conley：沒考慮過使用聯盟匿名舉報熱線，\n",
      "作者: Yui5 (唯控)\n",
      "[公告] 板規v6.8\n",
      "[公告] 版主上任相關事項 \n",
      "作者: qazwsx879345 (Rajon Rondo)\n",
      "[情報] SEASON Schedule 賽程 March 19–20\n",
      "作者: Acetoxy (阿斯)\n",
      "[公告] 第一次被退文，可在三天後刪除退文\n",
      "作者: Vedan (味丹)\n",
      "[公告] 板務說明 (發錢)\n",
      "作者: Vedan (味丹)\n"
     ]
    }
   ],
   "source": [
    "import requests\n",
    "from bs4 import BeautifulSoup\n",
    "\n",
    "url = 'https://www.ptt.cc/bbs/NBA/index.html'\n",
    "r = requests.get(url)\n",
    "\n",
    "soup = BeautifulSoup(r.text, \"html5lib\")\n",
    "\n",
    "for d in soup.find_all(class_=\"title\"):\n",
    "    print(d.text.replace('\\t', '').replace('\\n', ''))\n",
    "    try:\n",
    "        r = BeautifulSoup(requests.get('https://www.ptt.cc'+d.find('a')['href']).text, \"html5lib\")\n",
    "        print('作者: ' + r.find(class_='article-meta-value').text)\n",
    "    except:\n",
    "        continue\n"
   ]
  },
  {
   "cell_type": "markdown",
   "metadata": {},
   "source": [
    "## 作業目標\n",
    "\n",
    "根據範例 ，完成以下問題：\n",
    "\n",
    "* ① 印出最新文章的「作者」「標題」「時間」\n",
    "* ② 印出第一頁所有文章的「作者」「標題」「時間」\n",
    "* ③ 試著爬爬看其他版的文章\n"
   ]
  },
  {
   "cell_type": "code",
   "execution_count": null,
   "metadata": {},
   "outputs": [],
   "source": []
  }
 ],
 "metadata": {
  "kernelspec": {
   "display_name": "Python 3",
   "language": "python",
   "name": "python3"
  },
  "language_info": {
   "codemirror_mode": {
    "name": "ipython",
    "version": 3
   },
   "file_extension": ".py",
   "mimetype": "text/x-python",
   "name": "python",
   "nbconvert_exporter": "python",
   "pygments_lexer": "ipython3",
   "version": "3.7.6"
  }
 },
 "nbformat": 4,
 "nbformat_minor": 2
}
